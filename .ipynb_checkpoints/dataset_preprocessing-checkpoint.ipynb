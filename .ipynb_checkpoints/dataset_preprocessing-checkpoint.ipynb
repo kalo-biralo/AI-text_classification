{
 "cells": [
  {
   "cell_type": "code",
   "execution_count": 31,
   "id": "1ba20dab",
   "metadata": {},
   "outputs": [],
   "source": [
    "import pandas as pd"
   ]
  },
  {
   "cell_type": "code",
   "execution_count": 32,
   "id": "97581ec3",
   "metadata": {},
   "outputs": [
    {
     "name": "stdout",
     "output_type": "stream",
     "text": [
      "<_io.TextIOWrapper name='datasets/train.csv' mode='r' encoding='cp1252'>\n"
     ]
    }
   ],
   "source": [
    "with open(\"datasets/train.csv\") as f:\n",
    "    print(f)"
   ]
  },
  {
   "cell_type": "code",
   "execution_count": 33,
   "id": "630bf4dc",
   "metadata": {},
   "outputs": [],
   "source": [
    "data = pd.read_csv(\"datasets/train.csv\", encoding=\"utf8\")"
   ]
  },
  {
   "cell_type": "code",
   "execution_count": 34,
   "id": "26eb33ac",
   "metadata": {},
   "outputs": [
    {
     "data": {
      "text/html": [
       "<div>\n",
       "<style scoped>\n",
       "    .dataframe tbody tr th:only-of-type {\n",
       "        vertical-align: middle;\n",
       "    }\n",
       "\n",
       "    .dataframe tbody tr th {\n",
       "        vertical-align: top;\n",
       "    }\n",
       "\n",
       "    .dataframe thead th {\n",
       "        text-align: right;\n",
       "    }\n",
       "</style>\n",
       "<table border=\"1\" class=\"dataframe\">\n",
       "  <thead>\n",
       "    <tr style=\"text-align: right;\">\n",
       "      <th></th>\n",
       "      <th>human_prompt</th>\n",
       "      <th>chatgpt_response</th>\n",
       "    </tr>\n",
       "  </thead>\n",
       "  <tbody>\n",
       "    <tr>\n",
       "      <th>0</th>\n",
       "      <td>Write a detailed product description for a foo...</td>\n",
       "      <td>Introducing the ultimate kitchen tool for busy...</td>\n",
       "    </tr>\n",
       "    <tr>\n",
       "      <th>1</th>\n",
       "      <td>Write a short blog post (500 words) about the ...</td>\n",
       "      <td>Congratulations on your new furry friend! Owni...</td>\n",
       "    </tr>\n",
       "    <tr>\n",
       "      <th>2</th>\n",
       "      <td>ChatGPT is rewriting Genesis.</td>\n",
       "      <td>Sure, here's a possible re-write of the story ...</td>\n",
       "    </tr>\n",
       "    <tr>\n",
       "      <th>3</th>\n",
       "      <td>Please write the evolution of humans by natura...</td>\n",
       "      <td>Ingredients:\\n• 1 planet with diverse environm...</td>\n",
       "    </tr>\n",
       "    <tr>\n",
       "      <th>4</th>\n",
       "      <td>List possible Twitter messages from dinosaurs ...</td>\n",
       "      <td>@T-RexyTweetster\\n\"OMG guys, I just saw the as...</td>\n",
       "    </tr>\n",
       "  </tbody>\n",
       "</table>\n",
       "</div>"
      ],
      "text/plain": [
       "                                        human_prompt  \\\n",
       "0  Write a detailed product description for a foo...   \n",
       "1  Write a short blog post (500 words) about the ...   \n",
       "2                      ChatGPT is rewriting Genesis.   \n",
       "3  Please write the evolution of humans by natura...   \n",
       "4  List possible Twitter messages from dinosaurs ...   \n",
       "\n",
       "                                    chatgpt_response  \n",
       "0  Introducing the ultimate kitchen tool for busy...  \n",
       "1  Congratulations on your new furry friend! Owni...  \n",
       "2  Sure, here's a possible re-write of the story ...  \n",
       "3  Ingredients:\\n• 1 planet with diverse environm...  \n",
       "4  @T-RexyTweetster\\n\"OMG guys, I just saw the as...  "
      ]
     },
     "execution_count": 34,
     "metadata": {},
     "output_type": "execute_result"
    }
   ],
   "source": [
    "data.head()"
   ]
  },
  {
   "cell_type": "code",
   "execution_count": 35,
   "id": "10f96161",
   "metadata": {},
   "outputs": [
    {
     "name": "stdout",
     "output_type": "stream",
     "text": [
      "<class 'pandas.core.frame.DataFrame'>\n",
      "RangeIndex: 360 entries, 0 to 359\n",
      "Data columns (total 2 columns):\n",
      " #   Column            Non-Null Count  Dtype \n",
      "---  ------            --------------  ----- \n",
      " 0   human_prompt      360 non-null    object\n",
      " 1   chatgpt_response  360 non-null    object\n",
      "dtypes: object(2)\n",
      "memory usage: 5.8+ KB\n"
     ]
    }
   ],
   "source": [
    "data.info()"
   ]
  },
  {
   "cell_type": "code",
   "execution_count": 36,
   "id": "f0574b73",
   "metadata": {},
   "outputs": [],
   "source": [
    "data[\"human_prompt\"] = data[\"human_prompt\"] + \" \""
   ]
  },
  {
   "cell_type": "code",
   "execution_count": 37,
   "id": "76caa74d",
   "metadata": {},
   "outputs": [],
   "source": [
    "data[\"text\"] = data[\"human_prompt\"] + data[\"chatgpt_response\"]"
   ]
  },
  {
   "cell_type": "code",
   "execution_count": 38,
   "id": "a34e9b4f",
   "metadata": {},
   "outputs": [
    {
     "data": {
      "text/plain": [
       "0    Write a detailed product description for a foo...\n",
       "1    Write a short blog post (500 words) about the ...\n",
       "2    ChatGPT is rewriting Genesis. Sure, here's a p...\n",
       "3    Please write the evolution of humans by natura...\n",
       "4    List possible Twitter messages from dinosaurs ...\n",
       "Name: text, dtype: object"
      ]
     },
     "execution_count": 38,
     "metadata": {},
     "output_type": "execute_result"
    }
   ],
   "source": [
    "data[\"text\"].head()"
   ]
  },
  {
   "cell_type": "code",
   "execution_count": 39,
   "id": "f7a58873",
   "metadata": {},
   "outputs": [],
   "source": [
    "data.drop(data.iloc[:, :2], axis = 1, inplace = True)"
   ]
  },
  {
   "cell_type": "code",
   "execution_count": 40,
   "id": "1c5d6db4",
   "metadata": {},
   "outputs": [],
   "source": [
    "data.insert(1, \"domain\", \"chatgpt\", True)"
   ]
  },
  {
   "cell_type": "code",
   "execution_count": 41,
   "id": "ce5cb05e",
   "metadata": {},
   "outputs": [],
   "source": [
    "data.insert(2, \"name\", \"chatgpt prompts and answers\", True)"
   ]
  },
  {
   "cell_type": "code",
   "execution_count": 42,
   "id": "012bf98f",
   "metadata": {},
   "outputs": [],
   "source": [
    "data.insert(3, \"kind\", \"AI-written\", True)"
   ]
  },
  {
   "cell_type": "code",
   "execution_count": 43,
   "id": "625b95a4",
   "metadata": {},
   "outputs": [],
   "source": [
    "data.insert(4, \"model\", \"AI\", True)"
   ]
  },
  {
   "cell_type": "code",
   "execution_count": 44,
   "id": "6d42a358",
   "metadata": {},
   "outputs": [],
   "source": [
    "news_articles = pd.read_csv(\"datasets/news_article.csv\")"
   ]
  },
  {
   "cell_type": "code",
   "execution_count": 45,
   "id": "a869fbcb",
   "metadata": {},
   "outputs": [],
   "source": [
    "news_articles.reset_index(drop=True, inplace = True)"
   ]
  },
  {
   "cell_type": "code",
   "execution_count": 46,
   "id": "fa1d7629",
   "metadata": {},
   "outputs": [
    {
     "data": {
      "text/html": [
       "<div>\n",
       "<style scoped>\n",
       "    .dataframe tbody tr th:only-of-type {\n",
       "        vertical-align: middle;\n",
       "    }\n",
       "\n",
       "    .dataframe tbody tr th {\n",
       "        vertical-align: top;\n",
       "    }\n",
       "\n",
       "    .dataframe thead th {\n",
       "        text-align: right;\n",
       "    }\n",
       "</style>\n",
       "<table border=\"1\" class=\"dataframe\">\n",
       "  <thead>\n",
       "    <tr style=\"text-align: right;\">\n",
       "      <th></th>\n",
       "      <th>text</th>\n",
       "      <th>domain</th>\n",
       "      <th>name</th>\n",
       "      <th>kind</th>\n",
       "      <th>model</th>\n",
       "    </tr>\n",
       "  </thead>\n",
       "  <tbody>\n",
       "    <tr>\n",
       "      <th>0</th>\n",
       "      <td>Write a detailed product description for a foo...</td>\n",
       "      <td>chatgpt</td>\n",
       "      <td>chatgpt prompts and answers</td>\n",
       "      <td>AI-written</td>\n",
       "      <td>AI</td>\n",
       "    </tr>\n",
       "    <tr>\n",
       "      <th>1</th>\n",
       "      <td>Write a short blog post (500 words) about the ...</td>\n",
       "      <td>chatgpt</td>\n",
       "      <td>chatgpt prompts and answers</td>\n",
       "      <td>AI-written</td>\n",
       "      <td>AI</td>\n",
       "    </tr>\n",
       "    <tr>\n",
       "      <th>2</th>\n",
       "      <td>ChatGPT is rewriting Genesis. Sure, here's a p...</td>\n",
       "      <td>chatgpt</td>\n",
       "      <td>chatgpt prompts and answers</td>\n",
       "      <td>AI-written</td>\n",
       "      <td>AI</td>\n",
       "    </tr>\n",
       "    <tr>\n",
       "      <th>3</th>\n",
       "      <td>Please write the evolution of humans by natura...</td>\n",
       "      <td>chatgpt</td>\n",
       "      <td>chatgpt prompts and answers</td>\n",
       "      <td>AI-written</td>\n",
       "      <td>AI</td>\n",
       "    </tr>\n",
       "    <tr>\n",
       "      <th>4</th>\n",
       "      <td>List possible Twitter messages from dinosaurs ...</td>\n",
       "      <td>chatgpt</td>\n",
       "      <td>chatgpt prompts and answers</td>\n",
       "      <td>AI-written</td>\n",
       "      <td>AI</td>\n",
       "    </tr>\n",
       "  </tbody>\n",
       "</table>\n",
       "</div>"
      ],
      "text/plain": [
       "                                                text   domain  \\\n",
       "0  Write a detailed product description for a foo...  chatgpt   \n",
       "1  Write a short blog post (500 words) about the ...  chatgpt   \n",
       "2  ChatGPT is rewriting Genesis. Sure, here's a p...  chatgpt   \n",
       "3  Please write the evolution of humans by natura...  chatgpt   \n",
       "4  List possible Twitter messages from dinosaurs ...  chatgpt   \n",
       "\n",
       "                          name        kind model  \n",
       "0  chatgpt prompts and answers  AI-written    AI  \n",
       "1  chatgpt prompts and answers  AI-written    AI  \n",
       "2  chatgpt prompts and answers  AI-written    AI  \n",
       "3  chatgpt prompts and answers  AI-written    AI  \n",
       "4  chatgpt prompts and answers  AI-written    AI  "
      ]
     },
     "execution_count": 46,
     "metadata": {},
     "output_type": "execute_result"
    }
   ],
   "source": [
    "data.head()"
   ]
  },
  {
   "cell_type": "code",
   "execution_count": 47,
   "id": "2292a951",
   "metadata": {},
   "outputs": [],
   "source": [
    "dataset = pd.concat([data, news_articles], axis = 0)"
   ]
  },
  {
   "cell_type": "code",
   "execution_count": 48,
   "id": "cfbebf87",
   "metadata": {},
   "outputs": [
    {
     "name": "stdout",
     "output_type": "stream",
     "text": [
      "<class 'pandas.core.frame.DataFrame'>\n",
      "Int64Index: 1533 entries, 0 to 1172\n",
      "Data columns (total 5 columns):\n",
      " #   Column  Non-Null Count  Dtype \n",
      "---  ------  --------------  ----- \n",
      " 0   text    1533 non-null   object\n",
      " 1   domain  1533 non-null   object\n",
      " 2   name    1533 non-null   object\n",
      " 3   kind    1533 non-null   object\n",
      " 4   model   1533 non-null   object\n",
      "dtypes: object(5)\n",
      "memory usage: 71.9+ KB\n"
     ]
    }
   ],
   "source": [
    "dataset.info()"
   ]
  },
  {
   "cell_type": "code",
   "execution_count": 49,
   "id": "c07fd014",
   "metadata": {},
   "outputs": [
    {
     "data": {
      "text/plain": [
       "array(['AI', 'Human'], dtype=object)"
      ]
     },
     "execution_count": 49,
     "metadata": {},
     "output_type": "execute_result"
    }
   ],
   "source": [
    "dataset[\"model\"].unique()"
   ]
  },
  {
   "cell_type": "code",
   "execution_count": 50,
   "id": "bf6ffad8",
   "metadata": {},
   "outputs": [
    {
     "data": {
      "text/plain": [
       "Human    1173\n",
       "AI        360\n",
       "Name: model, dtype: int64"
      ]
     },
     "execution_count": 50,
     "metadata": {},
     "output_type": "execute_result"
    }
   ],
   "source": [
    "dataset[\"model\"].value_counts()"
   ]
  },
  {
   "cell_type": "code",
   "execution_count": 52,
   "id": "928bf85e",
   "metadata": {},
   "outputs": [],
   "source": [
    "dataset.to_csv(\"datasets/final_dataset.csv\", index = False)"
   ]
  },
  {
   "cell_type": "code",
   "execution_count": null,
   "id": "fd8803c8",
   "metadata": {},
   "outputs": [],
   "source": []
  }
 ],
 "metadata": {
  "kernelspec": {
   "display_name": "Python 3 (ipykernel)",
   "language": "python",
   "name": "python3"
  },
  "language_info": {
   "codemirror_mode": {
    "name": "ipython",
    "version": 3
   },
   "file_extension": ".py",
   "mimetype": "text/x-python",
   "name": "python",
   "nbconvert_exporter": "python",
   "pygments_lexer": "ipython3",
   "version": "3.10.9"
  }
 },
 "nbformat": 4,
 "nbformat_minor": 5
}
