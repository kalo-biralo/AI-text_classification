{
 "cells": [
  {
   "cell_type": "code",
   "execution_count": 1,
   "id": "067a69ea",
   "metadata": {},
   "outputs": [],
   "source": [
    "import pandas as pd"
   ]
  },
  {
   "cell_type": "code",
   "execution_count": 2,
   "id": "8b666aa8",
   "metadata": {},
   "outputs": [],
   "source": [
    "data = pd.read_csv(\"datasets/Articles.csv\", encoding=\"cp1252\")"
   ]
  },
  {
   "cell_type": "code",
   "execution_count": 3,
   "id": "ad24e338",
   "metadata": {},
   "outputs": [
    {
     "name": "stdout",
     "output_type": "stream",
     "text": [
      "<_io.TextIOWrapper name='datasets/Articles.csv' mode='r' encoding='cp1252'>\n"
     ]
    }
   ],
   "source": [
    "with open('datasets/Articles.csv') as f:\n",
    "    print(f)"
   ]
  },
  {
   "cell_type": "code",
   "execution_count": 4,
   "id": "039cd53a",
   "metadata": {},
   "outputs": [
    {
     "data": {
      "text/html": [
       "<div>\n",
       "<style scoped>\n",
       "    .dataframe tbody tr th:only-of-type {\n",
       "        vertical-align: middle;\n",
       "    }\n",
       "\n",
       "    .dataframe tbody tr th {\n",
       "        vertical-align: top;\n",
       "    }\n",
       "\n",
       "    .dataframe thead th {\n",
       "        text-align: right;\n",
       "    }\n",
       "</style>\n",
       "<table border=\"1\" class=\"dataframe\">\n",
       "  <thead>\n",
       "    <tr style=\"text-align: right;\">\n",
       "      <th></th>\n",
       "      <th>Article</th>\n",
       "      <th>Date</th>\n",
       "      <th>Heading</th>\n",
       "      <th>NewsType</th>\n",
       "    </tr>\n",
       "  </thead>\n",
       "  <tbody>\n",
       "    <tr>\n",
       "      <th>0</th>\n",
       "      <td>KARACHI: The Sindh government has decided to b...</td>\n",
       "      <td>1/1/2015</td>\n",
       "      <td>sindh govt decides to cut public transport far...</td>\n",
       "      <td>business</td>\n",
       "    </tr>\n",
       "    <tr>\n",
       "      <th>1</th>\n",
       "      <td>HONG KONG: Asian markets started 2015 on an up...</td>\n",
       "      <td>1/2/2015</td>\n",
       "      <td>asia stocks up in new year trad</td>\n",
       "      <td>business</td>\n",
       "    </tr>\n",
       "    <tr>\n",
       "      <th>2</th>\n",
       "      <td>HONG KONG:  Hong Kong shares opened 0.66 perce...</td>\n",
       "      <td>1/5/2015</td>\n",
       "      <td>hong kong stocks open 0.66 percent lower</td>\n",
       "      <td>business</td>\n",
       "    </tr>\n",
       "    <tr>\n",
       "      <th>3</th>\n",
       "      <td>HONG KONG: Asian markets tumbled Tuesday follo...</td>\n",
       "      <td>1/6/2015</td>\n",
       "      <td>asian stocks sink euro near nine year</td>\n",
       "      <td>business</td>\n",
       "    </tr>\n",
       "    <tr>\n",
       "      <th>4</th>\n",
       "      <td>NEW YORK: US oil prices Monday slipped below $...</td>\n",
       "      <td>1/6/2015</td>\n",
       "      <td>us oil prices slip below 50 a barr</td>\n",
       "      <td>business</td>\n",
       "    </tr>\n",
       "  </tbody>\n",
       "</table>\n",
       "</div>"
      ],
      "text/plain": [
       "                                             Article      Date  \\\n",
       "0  KARACHI: The Sindh government has decided to b...  1/1/2015   \n",
       "1  HONG KONG: Asian markets started 2015 on an up...  1/2/2015   \n",
       "2  HONG KONG:  Hong Kong shares opened 0.66 perce...  1/5/2015   \n",
       "3  HONG KONG: Asian markets tumbled Tuesday follo...  1/6/2015   \n",
       "4  NEW YORK: US oil prices Monday slipped below $...  1/6/2015   \n",
       "\n",
       "                                             Heading  NewsType  \n",
       "0  sindh govt decides to cut public transport far...  business  \n",
       "1                    asia stocks up in new year trad  business  \n",
       "2           hong kong stocks open 0.66 percent lower  business  \n",
       "3             asian stocks sink euro near nine year   business  \n",
       "4                 us oil prices slip below 50 a barr  business  "
      ]
     },
     "execution_count": 4,
     "metadata": {},
     "output_type": "execute_result"
    }
   ],
   "source": [
    "data.head()"
   ]
  },
  {
   "cell_type": "code",
   "execution_count": 5,
   "id": "9f61aa8d",
   "metadata": {},
   "outputs": [
    {
     "name": "stdout",
     "output_type": "stream",
     "text": [
      "<class 'pandas.core.frame.DataFrame'>\n",
      "RangeIndex: 2692 entries, 0 to 2691\n",
      "Data columns (total 4 columns):\n",
      " #   Column    Non-Null Count  Dtype \n",
      "---  ------    --------------  ----- \n",
      " 0   Article   2692 non-null   object\n",
      " 1   Date      2692 non-null   object\n",
      " 2   Heading   2692 non-null   object\n",
      " 3   NewsType  2692 non-null   object\n",
      "dtypes: object(4)\n",
      "memory usage: 84.2+ KB\n"
     ]
    }
   ],
   "source": [
    "data.info()"
   ]
  },
  {
   "cell_type": "code",
   "execution_count": 6,
   "id": "eca84886",
   "metadata": {},
   "outputs": [
    {
     "data": {
      "text/plain": [
       "array(['business', 'sports'], dtype=object)"
      ]
     },
     "execution_count": 6,
     "metadata": {},
     "output_type": "execute_result"
    }
   ],
   "source": [
    "data[\"NewsType\"].unique()"
   ]
  },
  {
   "cell_type": "code",
   "execution_count": 7,
   "id": "527fd7d0",
   "metadata": {},
   "outputs": [
    {
     "data": {
      "text/html": [
       "<div>\n",
       "<style scoped>\n",
       "    .dataframe tbody tr th:only-of-type {\n",
       "        vertical-align: middle;\n",
       "    }\n",
       "\n",
       "    .dataframe tbody tr th {\n",
       "        vertical-align: top;\n",
       "    }\n",
       "\n",
       "    .dataframe thead th {\n",
       "        text-align: right;\n",
       "    }\n",
       "</style>\n",
       "<table border=\"1\" class=\"dataframe\">\n",
       "  <thead>\n",
       "    <tr style=\"text-align: right;\">\n",
       "      <th></th>\n",
       "      <th>Article</th>\n",
       "      <th>Date</th>\n",
       "      <th>Heading</th>\n",
       "      <th>NewsType</th>\n",
       "    </tr>\n",
       "  </thead>\n",
       "  <tbody>\n",
       "    <tr>\n",
       "      <th>390</th>\n",
       "      <td>strong&gt;Singapore: Crude prices extended losses...</td>\n",
       "      <td>12/17/2015</td>\n",
       "      <td>Oil prices extend losses in Asia after invento...</td>\n",
       "      <td>business</td>\n",
       "    </tr>\n",
       "    <tr>\n",
       "      <th>392</th>\n",
       "      <td>strong&gt;New York: Global stocks ended the week ...</td>\n",
       "      <td>12/19/2015</td>\n",
       "      <td>Global stocks fall as Fed is second guessed</td>\n",
       "      <td>business</td>\n",
       "    </tr>\n",
       "    <tr>\n",
       "      <th>394</th>\n",
       "      <td>strong&gt;ISLAMABAD: Federal Finance Minister, Is...</td>\n",
       "      <td>12/21/2015</td>\n",
       "      <td>No intention to privatize PIA Ishaq Dar</td>\n",
       "      <td>business</td>\n",
       "    </tr>\n",
       "    <tr>\n",
       "      <th>395</th>\n",
       "      <td>strong&gt;SINGAPORE: Gold retained gains from a t...</td>\n",
       "      <td>12/22/2015</td>\n",
       "      <td>Gold keeps gains from two day rally but oil sl...</td>\n",
       "      <td>business</td>\n",
       "    </tr>\n",
       "    <tr>\n",
       "      <th>396</th>\n",
       "      <td>strong&gt;Hong Kong: The dollar retreated against...</td>\n",
       "      <td>12/23/2015</td>\n",
       "      <td>Dollar dips as effect of Fed rise wears off</td>\n",
       "      <td>business</td>\n",
       "    </tr>\n",
       "    <tr>\n",
       "      <th>...</th>\n",
       "      <td>...</td>\n",
       "      <td>...</td>\n",
       "      <td>...</td>\n",
       "      <td>...</td>\n",
       "    </tr>\n",
       "    <tr>\n",
       "      <th>2687</th>\n",
       "      <td>strong&gt;DUBAI: Dubai International Airport and ...</td>\n",
       "      <td>3/25/2017</td>\n",
       "      <td>Laptop ban hits Dubai for 11m weekend traveller</td>\n",
       "      <td>business</td>\n",
       "    </tr>\n",
       "    <tr>\n",
       "      <th>2688</th>\n",
       "      <td>strong&gt;BEIJING: Former Prime Minister, Shaukat...</td>\n",
       "      <td>3/26/2017</td>\n",
       "      <td>Pak China relations not against any third coun...</td>\n",
       "      <td>business</td>\n",
       "    </tr>\n",
       "    <tr>\n",
       "      <th>2689</th>\n",
       "      <td>strong&gt;WASHINGTON: Uber has grounded its fleet...</td>\n",
       "      <td>3/26/2017</td>\n",
       "      <td>Uber grounds self driving cars after accid</td>\n",
       "      <td>business</td>\n",
       "    </tr>\n",
       "    <tr>\n",
       "      <th>2690</th>\n",
       "      <td>strong&gt;BEIJING: The New Development Bank plans...</td>\n",
       "      <td>3/27/2017</td>\n",
       "      <td>New Development Bank plans joint investments i...</td>\n",
       "      <td>business</td>\n",
       "    </tr>\n",
       "    <tr>\n",
       "      <th>2691</th>\n",
       "      <td>strong&gt;KARACHI: Karachi-based technology incub...</td>\n",
       "      <td>3/27/2017</td>\n",
       "      <td>Google powered Startup Weekend energizing prou...</td>\n",
       "      <td>business</td>\n",
       "    </tr>\n",
       "  </tbody>\n",
       "</table>\n",
       "<p>1519 rows × 4 columns</p>\n",
       "</div>"
      ],
      "text/plain": [
       "                                                Article        Date  \\\n",
       "390   strong>Singapore: Crude prices extended losses...  12/17/2015   \n",
       "392   strong>New York: Global stocks ended the week ...  12/19/2015   \n",
       "394   strong>ISLAMABAD: Federal Finance Minister, Is...  12/21/2015   \n",
       "395   strong>SINGAPORE: Gold retained gains from a t...  12/22/2015   \n",
       "396   strong>Hong Kong: The dollar retreated against...  12/23/2015   \n",
       "...                                                 ...         ...   \n",
       "2687  strong>DUBAI: Dubai International Airport and ...   3/25/2017   \n",
       "2688  strong>BEIJING: Former Prime Minister, Shaukat...   3/26/2017   \n",
       "2689  strong>WASHINGTON: Uber has grounded its fleet...   3/26/2017   \n",
       "2690  strong>BEIJING: The New Development Bank plans...   3/27/2017   \n",
       "2691  strong>KARACHI: Karachi-based technology incub...   3/27/2017   \n",
       "\n",
       "                                                Heading  NewsType  \n",
       "390   Oil prices extend losses in Asia after invento...  business  \n",
       "392         Global stocks fall as Fed is second guessed  business  \n",
       "394             No intention to privatize PIA Ishaq Dar  business  \n",
       "395   Gold keeps gains from two day rally but oil sl...  business  \n",
       "396         Dollar dips as effect of Fed rise wears off  business  \n",
       "...                                                 ...       ...  \n",
       "2687    Laptop ban hits Dubai for 11m weekend traveller  business  \n",
       "2688  Pak China relations not against any third coun...  business  \n",
       "2689         Uber grounds self driving cars after accid  business  \n",
       "2690  New Development Bank plans joint investments i...  business  \n",
       "2691  Google powered Startup Weekend energizing prou...  business  \n",
       "\n",
       "[1519 rows x 4 columns]"
      ]
     },
     "execution_count": 7,
     "metadata": {},
     "output_type": "execute_result"
    }
   ],
   "source": [
    "data[data[\"Article\"].str.startswith(\"strong>\")]"
   ]
  },
  {
   "cell_type": "code",
   "execution_count": 8,
   "id": "551be47d",
   "metadata": {},
   "outputs": [],
   "source": [
    "data_no_scripts = data[~data[\"Article\"].str.startswith(\"strong>\")]"
   ]
  },
  {
   "cell_type": "code",
   "execution_count": 9,
   "id": "6471e9f5",
   "metadata": {},
   "outputs": [
    {
     "name": "stdout",
     "output_type": "stream",
     "text": [
      "<class 'pandas.core.frame.DataFrame'>\n",
      "Int64Index: 1173 entries, 0 to 2676\n",
      "Data columns (total 4 columns):\n",
      " #   Column    Non-Null Count  Dtype \n",
      "---  ------    --------------  ----- \n",
      " 0   Article   1173 non-null   object\n",
      " 1   Date      1173 non-null   object\n",
      " 2   Heading   1173 non-null   object\n",
      " 3   NewsType  1173 non-null   object\n",
      "dtypes: object(4)\n",
      "memory usage: 45.8+ KB\n"
     ]
    }
   ],
   "source": [
    "data_no_scripts.info()"
   ]
  },
  {
   "cell_type": "code",
   "execution_count": 10,
   "id": "8b579303",
   "metadata": {},
   "outputs": [
    {
     "data": {
      "text/html": [
       "<div>\n",
       "<style scoped>\n",
       "    .dataframe tbody tr th:only-of-type {\n",
       "        vertical-align: middle;\n",
       "    }\n",
       "\n",
       "    .dataframe tbody tr th {\n",
       "        vertical-align: top;\n",
       "    }\n",
       "\n",
       "    .dataframe thead th {\n",
       "        text-align: right;\n",
       "    }\n",
       "</style>\n",
       "<table border=\"1\" class=\"dataframe\">\n",
       "  <thead>\n",
       "    <tr style=\"text-align: right;\">\n",
       "      <th></th>\n",
       "      <th>Article</th>\n",
       "      <th>Date</th>\n",
       "      <th>Heading</th>\n",
       "      <th>NewsType</th>\n",
       "    </tr>\n",
       "  </thead>\n",
       "  <tbody>\n",
       "    <tr>\n",
       "      <th>0</th>\n",
       "      <td>KARACHI: The Sindh government has decided to b...</td>\n",
       "      <td>1/1/2015</td>\n",
       "      <td>sindh govt decides to cut public transport far...</td>\n",
       "      <td>business</td>\n",
       "    </tr>\n",
       "    <tr>\n",
       "      <th>1</th>\n",
       "      <td>HONG KONG: Asian markets started 2015 on an up...</td>\n",
       "      <td>1/2/2015</td>\n",
       "      <td>asia stocks up in new year trad</td>\n",
       "      <td>business</td>\n",
       "    </tr>\n",
       "    <tr>\n",
       "      <th>2</th>\n",
       "      <td>HONG KONG:  Hong Kong shares opened 0.66 perce...</td>\n",
       "      <td>1/5/2015</td>\n",
       "      <td>hong kong stocks open 0.66 percent lower</td>\n",
       "      <td>business</td>\n",
       "    </tr>\n",
       "    <tr>\n",
       "      <th>3</th>\n",
       "      <td>HONG KONG: Asian markets tumbled Tuesday follo...</td>\n",
       "      <td>1/6/2015</td>\n",
       "      <td>asian stocks sink euro near nine year</td>\n",
       "      <td>business</td>\n",
       "    </tr>\n",
       "    <tr>\n",
       "      <th>4</th>\n",
       "      <td>NEW YORK: US oil prices Monday slipped below $...</td>\n",
       "      <td>1/6/2015</td>\n",
       "      <td>us oil prices slip below 50 a barr</td>\n",
       "      <td>business</td>\n",
       "    </tr>\n",
       "  </tbody>\n",
       "</table>\n",
       "</div>"
      ],
      "text/plain": [
       "                                             Article      Date  \\\n",
       "0  KARACHI: The Sindh government has decided to b...  1/1/2015   \n",
       "1  HONG KONG: Asian markets started 2015 on an up...  1/2/2015   \n",
       "2  HONG KONG:  Hong Kong shares opened 0.66 perce...  1/5/2015   \n",
       "3  HONG KONG: Asian markets tumbled Tuesday follo...  1/6/2015   \n",
       "4  NEW YORK: US oil prices Monday slipped below $...  1/6/2015   \n",
       "\n",
       "                                             Heading  NewsType  \n",
       "0  sindh govt decides to cut public transport far...  business  \n",
       "1                    asia stocks up in new year trad  business  \n",
       "2           hong kong stocks open 0.66 percent lower  business  \n",
       "3             asian stocks sink euro near nine year   business  \n",
       "4                 us oil prices slip below 50 a barr  business  "
      ]
     },
     "execution_count": 10,
     "metadata": {},
     "output_type": "execute_result"
    }
   ],
   "source": [
    "data_no_scripts.head()"
   ]
  },
  {
   "cell_type": "code",
   "execution_count": 11,
   "id": "d91f405e",
   "metadata": {},
   "outputs": [
    {
     "data": {
      "text/plain": [
       "sports      677\n",
       "business    496\n",
       "Name: NewsType, dtype: int64"
      ]
     },
     "execution_count": 11,
     "metadata": {},
     "output_type": "execute_result"
    }
   ],
   "source": [
    "data_no_scripts[\"NewsType\"].value_counts()"
   ]
  },
  {
   "cell_type": "code",
   "execution_count": 12,
   "id": "41cfb699",
   "metadata": {},
   "outputs": [
    {
     "name": "stderr",
     "output_type": "stream",
     "text": [
      "C:\\Users\\Prashjeev\\AppData\\Local\\Temp\\ipykernel_13548\\2243851193.py:1: SettingWithCopyWarning: \n",
      "A value is trying to be set on a copy of a slice from a DataFrame.\n",
      "Try using .loc[row_indexer,col_indexer] = value instead\n",
      "\n",
      "See the caveats in the documentation: https://pandas.pydata.org/pandas-docs/stable/user_guide/indexing.html#returning-a-view-versus-a-copy\n",
      "  data_no_scripts[\"Heading\"] = data_no_scripts[\"Heading\"] + \" \"\n"
     ]
    }
   ],
   "source": [
    "data_no_scripts[\"Heading\"] = data_no_scripts[\"Heading\"] + \" \""
   ]
  },
  {
   "cell_type": "code",
   "execution_count": 13,
   "id": "0643512b",
   "metadata": {},
   "outputs": [
    {
     "data": {
      "text/plain": [
       "0    sindh govt decides to cut public transport far...\n",
       "1                     asia stocks up in new year trad \n",
       "2            hong kong stocks open 0.66 percent lower \n",
       "3              asian stocks sink euro near nine year  \n",
       "4                  us oil prices slip below 50 a barr \n",
       "Name: Heading, dtype: object"
      ]
     },
     "execution_count": 13,
     "metadata": {},
     "output_type": "execute_result"
    }
   ],
   "source": [
    "data_no_scripts[\"Heading\"].head()"
   ]
  },
  {
   "cell_type": "code",
   "execution_count": 14,
   "id": "b78fc750",
   "metadata": {},
   "outputs": [
    {
     "name": "stderr",
     "output_type": "stream",
     "text": [
      "C:\\Users\\Prashjeev\\AppData\\Local\\Temp\\ipykernel_13548\\2088473045.py:1: SettingWithCopyWarning: \n",
      "A value is trying to be set on a copy of a slice from a DataFrame.\n",
      "Try using .loc[row_indexer,col_indexer] = value instead\n",
      "\n",
      "See the caveats in the documentation: https://pandas.pydata.org/pandas-docs/stable/user_guide/indexing.html#returning-a-view-versus-a-copy\n",
      "  data_no_scripts[\"Article\"] = data_no_scripts[\"Heading\"] + data_no_scripts[\"Article\"]\n"
     ]
    }
   ],
   "source": [
    "data_no_scripts[\"Article\"] = data_no_scripts[\"Heading\"] + data_no_scripts[\"Article\"]"
   ]
  },
  {
   "cell_type": "code",
   "execution_count": 15,
   "id": "4f61154e",
   "metadata": {},
   "outputs": [
    {
     "data": {
      "text/plain": [
       "\"imf disburses 500mn loan tranche to paki ISLAMABAD: Pakistan's central bank has received $500 million from the International Monetary Fund (IMF) as the sixth loan tranche of an ongoing aid arrangement to support economic reforms and growth, sources told Geo News on Wednesday.Sources said that the State Bank of Pakistan (SBP) has already received the funds and that the country's foreign reserves have now swelled up to $16.5bn as a result.Investor outlook at capital markets in the country appeared optimistic on reports of release of the IMF installment, with the benchmark Karachi Stock exchange 100 index witnessing an upward trend and gains of 550 at the start of trading today.                        \\r\\n\\r\\n\\r\\n\\r\\n\\r\\n\\r\\n\\r\\n\\r\\n\\r\\n\\r\\n\\r\\n\""
      ]
     },
     "execution_count": 15,
     "metadata": {},
     "output_type": "execute_result"
    }
   ],
   "source": [
    "data_no_scripts[\"Article\"][100]"
   ]
  },
  {
   "cell_type": "code",
   "execution_count": 16,
   "id": "a263707d",
   "metadata": {},
   "outputs": [
    {
     "name": "stderr",
     "output_type": "stream",
     "text": [
      "C:\\Users\\Prashjeev\\AppData\\Local\\Temp\\ipykernel_13548\\2741328814.py:1: SettingWithCopyWarning: \n",
      "A value is trying to be set on a copy of a slice from a DataFrame\n",
      "\n",
      "See the caveats in the documentation: https://pandas.pydata.org/pandas-docs/stable/user_guide/indexing.html#returning-a-view-versus-a-copy\n",
      "  data_no_scripts.drop(data_no_scripts.iloc[:, 1:], axis = 1, inplace = True)\n"
     ]
    }
   ],
   "source": [
    "data_no_scripts.drop(data_no_scripts.iloc[:, 1:], axis = 1, inplace = True)"
   ]
  },
  {
   "cell_type": "code",
   "execution_count": 17,
   "id": "6c80f4f0",
   "metadata": {},
   "outputs": [],
   "source": [
    "data_no_scripts = data_no_scripts.reset_index(drop = True)"
   ]
  },
  {
   "cell_type": "code",
   "execution_count": 18,
   "id": "6604dc65",
   "metadata": {},
   "outputs": [],
   "source": [
    "data_no_scripts.rename(columns = {\"Article\": \"text\"}, inplace = True)"
   ]
  },
  {
   "cell_type": "code",
   "execution_count": 19,
   "id": "5e1ad63d",
   "metadata": {},
   "outputs": [],
   "source": [
    "data_no_scripts[\"model\"] = \"Human\""
   ]
  },
  {
   "cell_type": "code",
   "execution_count": 20,
   "id": "6848d4b2",
   "metadata": {},
   "outputs": [
    {
     "data": {
      "text/html": [
       "<div>\n",
       "<style scoped>\n",
       "    .dataframe tbody tr th:only-of-type {\n",
       "        vertical-align: middle;\n",
       "    }\n",
       "\n",
       "    .dataframe tbody tr th {\n",
       "        vertical-align: top;\n",
       "    }\n",
       "\n",
       "    .dataframe thead th {\n",
       "        text-align: right;\n",
       "    }\n",
       "</style>\n",
       "<table border=\"1\" class=\"dataframe\">\n",
       "  <thead>\n",
       "    <tr style=\"text-align: right;\">\n",
       "      <th></th>\n",
       "      <th>text</th>\n",
       "      <th>model</th>\n",
       "    </tr>\n",
       "  </thead>\n",
       "  <tbody>\n",
       "    <tr>\n",
       "      <th>0</th>\n",
       "      <td>sindh govt decides to cut public transport far...</td>\n",
       "      <td>Human</td>\n",
       "    </tr>\n",
       "    <tr>\n",
       "      <th>1</th>\n",
       "      <td>asia stocks up in new year trad HONG KONG: Asi...</td>\n",
       "      <td>Human</td>\n",
       "    </tr>\n",
       "    <tr>\n",
       "      <th>2</th>\n",
       "      <td>hong kong stocks open 0.66 percent lower HONG ...</td>\n",
       "      <td>Human</td>\n",
       "    </tr>\n",
       "    <tr>\n",
       "      <th>3</th>\n",
       "      <td>asian stocks sink euro near nine year  HONG KO...</td>\n",
       "      <td>Human</td>\n",
       "    </tr>\n",
       "    <tr>\n",
       "      <th>4</th>\n",
       "      <td>us oil prices slip below 50 a barr NEW YORK: U...</td>\n",
       "      <td>Human</td>\n",
       "    </tr>\n",
       "  </tbody>\n",
       "</table>\n",
       "</div>"
      ],
      "text/plain": [
       "                                                text  model\n",
       "0  sindh govt decides to cut public transport far...  Human\n",
       "1  asia stocks up in new year trad HONG KONG: Asi...  Human\n",
       "2  hong kong stocks open 0.66 percent lower HONG ...  Human\n",
       "3  asian stocks sink euro near nine year  HONG KO...  Human\n",
       "4  us oil prices slip below 50 a barr NEW YORK: U...  Human"
      ]
     },
     "execution_count": 20,
     "metadata": {},
     "output_type": "execute_result"
    }
   ],
   "source": [
    "data_no_scripts.head()"
   ]
  },
  {
   "cell_type": "code",
   "execution_count": 21,
   "id": "159a18ce",
   "metadata": {},
   "outputs": [],
   "source": [
    "data_no_scripts.insert(1, \"domain\", \"News\", True)"
   ]
  },
  {
   "cell_type": "code",
   "execution_count": 22,
   "id": "3cee7cca",
   "metadata": {},
   "outputs": [],
   "source": [
    "data_no_scripts.insert(2, \"name\", \"Newspaper article on Business/Sports\", True)"
   ]
  },
  {
   "cell_type": "code",
   "execution_count": 23,
   "id": "7c67ac28",
   "metadata": {},
   "outputs": [],
   "source": [
    "data_no_scripts.insert(3, \"kind\", \"Human-Written\", True)"
   ]
  },
  {
   "cell_type": "code",
   "execution_count": 24,
   "id": "6b89742d",
   "metadata": {},
   "outputs": [
    {
     "data": {
      "text/html": [
       "<div>\n",
       "<style scoped>\n",
       "    .dataframe tbody tr th:only-of-type {\n",
       "        vertical-align: middle;\n",
       "    }\n",
       "\n",
       "    .dataframe tbody tr th {\n",
       "        vertical-align: top;\n",
       "    }\n",
       "\n",
       "    .dataframe thead th {\n",
       "        text-align: right;\n",
       "    }\n",
       "</style>\n",
       "<table border=\"1\" class=\"dataframe\">\n",
       "  <thead>\n",
       "    <tr style=\"text-align: right;\">\n",
       "      <th></th>\n",
       "      <th>text</th>\n",
       "      <th>domain</th>\n",
       "      <th>name</th>\n",
       "      <th>kind</th>\n",
       "      <th>model</th>\n",
       "    </tr>\n",
       "  </thead>\n",
       "  <tbody>\n",
       "    <tr>\n",
       "      <th>0</th>\n",
       "      <td>sindh govt decides to cut public transport far...</td>\n",
       "      <td>News</td>\n",
       "      <td>Newspaper article on Business/Sports</td>\n",
       "      <td>Human-Written</td>\n",
       "      <td>Human</td>\n",
       "    </tr>\n",
       "    <tr>\n",
       "      <th>1</th>\n",
       "      <td>asia stocks up in new year trad HONG KONG: Asi...</td>\n",
       "      <td>News</td>\n",
       "      <td>Newspaper article on Business/Sports</td>\n",
       "      <td>Human-Written</td>\n",
       "      <td>Human</td>\n",
       "    </tr>\n",
       "    <tr>\n",
       "      <th>2</th>\n",
       "      <td>hong kong stocks open 0.66 percent lower HONG ...</td>\n",
       "      <td>News</td>\n",
       "      <td>Newspaper article on Business/Sports</td>\n",
       "      <td>Human-Written</td>\n",
       "      <td>Human</td>\n",
       "    </tr>\n",
       "    <tr>\n",
       "      <th>3</th>\n",
       "      <td>asian stocks sink euro near nine year  HONG KO...</td>\n",
       "      <td>News</td>\n",
       "      <td>Newspaper article on Business/Sports</td>\n",
       "      <td>Human-Written</td>\n",
       "      <td>Human</td>\n",
       "    </tr>\n",
       "    <tr>\n",
       "      <th>4</th>\n",
       "      <td>us oil prices slip below 50 a barr NEW YORK: U...</td>\n",
       "      <td>News</td>\n",
       "      <td>Newspaper article on Business/Sports</td>\n",
       "      <td>Human-Written</td>\n",
       "      <td>Human</td>\n",
       "    </tr>\n",
       "  </tbody>\n",
       "</table>\n",
       "</div>"
      ],
      "text/plain": [
       "                                                text domain  \\\n",
       "0  sindh govt decides to cut public transport far...   News   \n",
       "1  asia stocks up in new year trad HONG KONG: Asi...   News   \n",
       "2  hong kong stocks open 0.66 percent lower HONG ...   News   \n",
       "3  asian stocks sink euro near nine year  HONG KO...   News   \n",
       "4  us oil prices slip below 50 a barr NEW YORK: U...   News   \n",
       "\n",
       "                                   name           kind  model  \n",
       "0  Newspaper article on Business/Sports  Human-Written  Human  \n",
       "1  Newspaper article on Business/Sports  Human-Written  Human  \n",
       "2  Newspaper article on Business/Sports  Human-Written  Human  \n",
       "3  Newspaper article on Business/Sports  Human-Written  Human  \n",
       "4  Newspaper article on Business/Sports  Human-Written  Human  "
      ]
     },
     "execution_count": 24,
     "metadata": {},
     "output_type": "execute_result"
    }
   ],
   "source": [
    "data_no_scripts.head()"
   ]
  },
  {
   "cell_type": "code",
   "execution_count": 86,
   "id": "95cc2c2c",
   "metadata": {},
   "outputs": [],
   "source": [
    "data_no_scripts.to_csv(\"datasets/news_article.csv\", index = False)"
   ]
  },
  {
   "cell_type": "code",
   "execution_count": null,
   "id": "8d87c3b8",
   "metadata": {},
   "outputs": [],
   "source": []
  }
 ],
 "metadata": {
  "kernelspec": {
   "display_name": "Python 3 (ipykernel)",
   "language": "python",
   "name": "python3"
  },
  "language_info": {
   "codemirror_mode": {
    "name": "ipython",
    "version": 3
   },
   "file_extension": ".py",
   "mimetype": "text/x-python",
   "name": "python",
   "nbconvert_exporter": "python",
   "pygments_lexer": "ipython3",
   "version": "3.10.9"
  }
 },
 "nbformat": 4,
 "nbformat_minor": 5
}
