{
 "cells": [
  {
   "cell_type": "code",
   "execution_count": 84,
   "id": "1ba20dab",
   "metadata": {},
   "outputs": [],
   "source": [
    "import pandas as pd"
   ]
  },
  {
   "cell_type": "code",
   "execution_count": 85,
   "id": "97581ec3",
   "metadata": {},
   "outputs": [
    {
     "name": "stdout",
     "output_type": "stream",
     "text": [
      "<_io.TextIOWrapper name='datasets/train.csv' mode='r' encoding='cp1252'>\n"
     ]
    }
   ],
   "source": [
    "with open(\"datasets/train.csv\") as f:\n",
    "    print(f)"
   ]
  },
  {
   "cell_type": "code",
   "execution_count": 86,
   "id": "630bf4dc",
   "metadata": {},
   "outputs": [],
   "source": [
    "data = pd.read_csv(\"datasets/train.csv\", encoding=\"utf8\")"
   ]
  },
  {
   "cell_type": "code",
   "execution_count": 87,
   "id": "26eb33ac",
   "metadata": {},
   "outputs": [
    {
     "data": {
      "text/html": [
       "<div>\n",
       "<style scoped>\n",
       "    .dataframe tbody tr th:only-of-type {\n",
       "        vertical-align: middle;\n",
       "    }\n",
       "\n",
       "    .dataframe tbody tr th {\n",
       "        vertical-align: top;\n",
       "    }\n",
       "\n",
       "    .dataframe thead th {\n",
       "        text-align: right;\n",
       "    }\n",
       "</style>\n",
       "<table border=\"1\" class=\"dataframe\">\n",
       "  <thead>\n",
       "    <tr style=\"text-align: right;\">\n",
       "      <th></th>\n",
       "      <th>human_prompt</th>\n",
       "      <th>chatgpt_response</th>\n",
       "    </tr>\n",
       "  </thead>\n",
       "  <tbody>\n",
       "    <tr>\n",
       "      <th>0</th>\n",
       "      <td>Write a detailed product description for a foo...</td>\n",
       "      <td>Introducing the ultimate kitchen tool for busy...</td>\n",
       "    </tr>\n",
       "    <tr>\n",
       "      <th>1</th>\n",
       "      <td>Write a short blog post (500 words) about the ...</td>\n",
       "      <td>Congratulations on your new furry friend! Owni...</td>\n",
       "    </tr>\n",
       "    <tr>\n",
       "      <th>2</th>\n",
       "      <td>ChatGPT is rewriting Genesis.</td>\n",
       "      <td>Sure, here's a possible re-write of the story ...</td>\n",
       "    </tr>\n",
       "    <tr>\n",
       "      <th>3</th>\n",
       "      <td>Please write the evolution of humans by natura...</td>\n",
       "      <td>Ingredients:\\n• 1 planet with diverse environm...</td>\n",
       "    </tr>\n",
       "    <tr>\n",
       "      <th>4</th>\n",
       "      <td>List possible Twitter messages from dinosaurs ...</td>\n",
       "      <td>@T-RexyTweetster\\n\"OMG guys, I just saw the as...</td>\n",
       "    </tr>\n",
       "  </tbody>\n",
       "</table>\n",
       "</div>"
      ],
      "text/plain": [
       "                                        human_prompt  \\\n",
       "0  Write a detailed product description for a foo...   \n",
       "1  Write a short blog post (500 words) about the ...   \n",
       "2                      ChatGPT is rewriting Genesis.   \n",
       "3  Please write the evolution of humans by natura...   \n",
       "4  List possible Twitter messages from dinosaurs ...   \n",
       "\n",
       "                                    chatgpt_response  \n",
       "0  Introducing the ultimate kitchen tool for busy...  \n",
       "1  Congratulations on your new furry friend! Owni...  \n",
       "2  Sure, here's a possible re-write of the story ...  \n",
       "3  Ingredients:\\n• 1 planet with diverse environm...  \n",
       "4  @T-RexyTweetster\\n\"OMG guys, I just saw the as...  "
      ]
     },
     "execution_count": 87,
     "metadata": {},
     "output_type": "execute_result"
    }
   ],
   "source": [
    "data.head()"
   ]
  },
  {
   "cell_type": "code",
   "execution_count": 88,
   "id": "10f96161",
   "metadata": {},
   "outputs": [
    {
     "name": "stdout",
     "output_type": "stream",
     "text": [
      "<class 'pandas.core.frame.DataFrame'>\n",
      "RangeIndex: 360 entries, 0 to 359\n",
      "Data columns (total 2 columns):\n",
      " #   Column            Non-Null Count  Dtype \n",
      "---  ------            --------------  ----- \n",
      " 0   human_prompt      360 non-null    object\n",
      " 1   chatgpt_response  360 non-null    object\n",
      "dtypes: object(2)\n",
      "memory usage: 5.8+ KB\n"
     ]
    }
   ],
   "source": [
    "data.info()"
   ]
  },
  {
   "cell_type": "code",
   "execution_count": 89,
   "id": "f0574b73",
   "metadata": {},
   "outputs": [],
   "source": [
    "data[\"human_prompt\"] = data[\"human_prompt\"] + \" \""
   ]
  },
  {
   "cell_type": "code",
   "execution_count": 90,
   "id": "76caa74d",
   "metadata": {},
   "outputs": [],
   "source": [
    "data[\"text\"] = data[\"human_prompt\"] + data[\"chatgpt_response\"]"
   ]
  },
  {
   "cell_type": "code",
   "execution_count": 91,
   "id": "a34e9b4f",
   "metadata": {},
   "outputs": [
    {
     "data": {
      "text/plain": [
       "0    Write a detailed product description for a foo...\n",
       "1    Write a short blog post (500 words) about the ...\n",
       "2    ChatGPT is rewriting Genesis. Sure, here's a p...\n",
       "3    Please write the evolution of humans by natura...\n",
       "4    List possible Twitter messages from dinosaurs ...\n",
       "Name: text, dtype: object"
      ]
     },
     "execution_count": 91,
     "metadata": {},
     "output_type": "execute_result"
    }
   ],
   "source": [
    "data[\"text\"].head()"
   ]
  },
  {
   "cell_type": "code",
   "execution_count": 92,
   "id": "f7a58873",
   "metadata": {},
   "outputs": [],
   "source": [
    "data.drop(data.iloc[:, :2], axis = 1, inplace = True)"
   ]
  },
  {
   "cell_type": "code",
   "execution_count": 93,
   "id": "1c5d6db4",
   "metadata": {},
   "outputs": [],
   "source": [
    "data.insert(1, \"domain\", \"chatgpt\", True)"
   ]
  },
  {
   "cell_type": "code",
   "execution_count": 94,
   "id": "ce5cb05e",
   "metadata": {},
   "outputs": [],
   "source": [
    "data.insert(2, \"name\", \"chatgpt prompts and answers\", True)"
   ]
  },
  {
   "cell_type": "code",
   "execution_count": 95,
   "id": "012bf98f",
   "metadata": {},
   "outputs": [],
   "source": [
    "data.insert(3, \"kind\", \"AI-written\", True)"
   ]
  },
  {
   "cell_type": "code",
   "execution_count": 96,
   "id": "625b95a4",
   "metadata": {},
   "outputs": [],
   "source": [
    "data.insert(4, \"model\", \"AI\", True)"
   ]
  },
  {
   "cell_type": "code",
   "execution_count": 97,
   "id": "6d42a358",
   "metadata": {},
   "outputs": [],
   "source": [
    "news_articles = pd.read_csv(\"datasets/news_article.csv\")"
   ]
  },
  {
   "cell_type": "code",
   "execution_count": 98,
   "id": "a869fbcb",
   "metadata": {},
   "outputs": [],
   "source": [
    "news_articles.reset_index(drop=True, inplace = True)"
   ]
  },
  {
   "cell_type": "code",
   "execution_count": 99,
   "id": "fa1d7629",
   "metadata": {},
   "outputs": [
    {
     "data": {
      "text/html": [
       "<div>\n",
       "<style scoped>\n",
       "    .dataframe tbody tr th:only-of-type {\n",
       "        vertical-align: middle;\n",
       "    }\n",
       "\n",
       "    .dataframe tbody tr th {\n",
       "        vertical-align: top;\n",
       "    }\n",
       "\n",
       "    .dataframe thead th {\n",
       "        text-align: right;\n",
       "    }\n",
       "</style>\n",
       "<table border=\"1\" class=\"dataframe\">\n",
       "  <thead>\n",
       "    <tr style=\"text-align: right;\">\n",
       "      <th></th>\n",
       "      <th>text</th>\n",
       "      <th>domain</th>\n",
       "      <th>name</th>\n",
       "      <th>kind</th>\n",
       "      <th>model</th>\n",
       "    </tr>\n",
       "  </thead>\n",
       "  <tbody>\n",
       "    <tr>\n",
       "      <th>0</th>\n",
       "      <td>Write a detailed product description for a foo...</td>\n",
       "      <td>chatgpt</td>\n",
       "      <td>chatgpt prompts and answers</td>\n",
       "      <td>AI-written</td>\n",
       "      <td>AI</td>\n",
       "    </tr>\n",
       "    <tr>\n",
       "      <th>1</th>\n",
       "      <td>Write a short blog post (500 words) about the ...</td>\n",
       "      <td>chatgpt</td>\n",
       "      <td>chatgpt prompts and answers</td>\n",
       "      <td>AI-written</td>\n",
       "      <td>AI</td>\n",
       "    </tr>\n",
       "    <tr>\n",
       "      <th>2</th>\n",
       "      <td>ChatGPT is rewriting Genesis. Sure, here's a p...</td>\n",
       "      <td>chatgpt</td>\n",
       "      <td>chatgpt prompts and answers</td>\n",
       "      <td>AI-written</td>\n",
       "      <td>AI</td>\n",
       "    </tr>\n",
       "    <tr>\n",
       "      <th>3</th>\n",
       "      <td>Please write the evolution of humans by natura...</td>\n",
       "      <td>chatgpt</td>\n",
       "      <td>chatgpt prompts and answers</td>\n",
       "      <td>AI-written</td>\n",
       "      <td>AI</td>\n",
       "    </tr>\n",
       "    <tr>\n",
       "      <th>4</th>\n",
       "      <td>List possible Twitter messages from dinosaurs ...</td>\n",
       "      <td>chatgpt</td>\n",
       "      <td>chatgpt prompts and answers</td>\n",
       "      <td>AI-written</td>\n",
       "      <td>AI</td>\n",
       "    </tr>\n",
       "  </tbody>\n",
       "</table>\n",
       "</div>"
      ],
      "text/plain": [
       "                                                text   domain  \\\n",
       "0  Write a detailed product description for a foo...  chatgpt   \n",
       "1  Write a short blog post (500 words) about the ...  chatgpt   \n",
       "2  ChatGPT is rewriting Genesis. Sure, here's a p...  chatgpt   \n",
       "3  Please write the evolution of humans by natura...  chatgpt   \n",
       "4  List possible Twitter messages from dinosaurs ...  chatgpt   \n",
       "\n",
       "                          name        kind model  \n",
       "0  chatgpt prompts and answers  AI-written    AI  \n",
       "1  chatgpt prompts and answers  AI-written    AI  \n",
       "2  chatgpt prompts and answers  AI-written    AI  \n",
       "3  chatgpt prompts and answers  AI-written    AI  \n",
       "4  chatgpt prompts and answers  AI-written    AI  "
      ]
     },
     "execution_count": 99,
     "metadata": {},
     "output_type": "execute_result"
    }
   ],
   "source": [
    "data.head()"
   ]
  },
  {
   "cell_type": "code",
   "execution_count": 100,
   "id": "2292a951",
   "metadata": {},
   "outputs": [],
   "source": [
    "dataset = pd.concat([data, news_articles], axis = 0)"
   ]
  },
  {
   "cell_type": "code",
   "execution_count": 101,
   "id": "cfbebf87",
   "metadata": {},
   "outputs": [
    {
     "name": "stdout",
     "output_type": "stream",
     "text": [
      "<class 'pandas.core.frame.DataFrame'>\n",
      "Int64Index: 1533 entries, 0 to 1172\n",
      "Data columns (total 5 columns):\n",
      " #   Column  Non-Null Count  Dtype \n",
      "---  ------  --------------  ----- \n",
      " 0   text    1533 non-null   object\n",
      " 1   domain  1533 non-null   object\n",
      " 2   name    1533 non-null   object\n",
      " 3   kind    1533 non-null   object\n",
      " 4   model   1533 non-null   object\n",
      "dtypes: object(5)\n",
      "memory usage: 71.9+ KB\n"
     ]
    }
   ],
   "source": [
    "dataset.info()"
   ]
  },
  {
   "cell_type": "code",
   "execution_count": 102,
   "id": "c07fd014",
   "metadata": {},
   "outputs": [
    {
     "data": {
      "text/plain": [
       "array(['AI', 'Human'], dtype=object)"
      ]
     },
     "execution_count": 102,
     "metadata": {},
     "output_type": "execute_result"
    }
   ],
   "source": [
    "dataset[\"model\"].unique()"
   ]
  },
  {
   "cell_type": "code",
   "execution_count": 103,
   "id": "bf6ffad8",
   "metadata": {},
   "outputs": [
    {
     "data": {
      "text/plain": [
       "Human    1173\n",
       "AI        360\n",
       "Name: model, dtype: int64"
      ]
     },
     "execution_count": 103,
     "metadata": {},
     "output_type": "execute_result"
    }
   ],
   "source": [
    "dataset[\"model\"].value_counts()"
   ]
  },
  {
   "cell_type": "code",
   "execution_count": 146,
   "id": "5350acf6",
   "metadata": {},
   "outputs": [],
   "source": [
    "prev_data = pd.read_csv(\"datasets/all_data.csv\")"
   ]
  },
  {
   "cell_type": "code",
   "execution_count": 148,
   "id": "0d466d6f",
   "metadata": {},
   "outputs": [
    {
     "data": {
      "text/html": [
       "<div>\n",
       "<style scoped>\n",
       "    .dataframe tbody tr th:only-of-type {\n",
       "        vertical-align: middle;\n",
       "    }\n",
       "\n",
       "    .dataframe tbody tr th {\n",
       "        vertical-align: top;\n",
       "    }\n",
       "\n",
       "    .dataframe thead th {\n",
       "        text-align: right;\n",
       "    }\n",
       "</style>\n",
       "<table border=\"1\" class=\"dataframe\">\n",
       "  <thead>\n",
       "    <tr style=\"text-align: right;\">\n",
       "      <th></th>\n",
       "      <th>text</th>\n",
       "      <th>domain</th>\n",
       "      <th>name</th>\n",
       "      <th>kind</th>\n",
       "      <th>model</th>\n",
       "    </tr>\n",
       "  </thead>\n",
       "  <tbody>\n",
       "    <tr>\n",
       "      <th>0</th>\n",
       "      <td>I favor preparing meals at home. Primarily, it...</td>\n",
       "      <td>TOEFL_gpt4polished_91</td>\n",
       "      <td>Fake TOEFL - GPT4 - PE</td>\n",
       "      <td>AI-Generated</td>\n",
       "      <td>GPT4</td>\n",
       "    </tr>\n",
       "    <tr>\n",
       "      <th>1</th>\n",
       "      <td>The destination I'm most eager to explore is o...</td>\n",
       "      <td>TOEFL_gpt4polished_91</td>\n",
       "      <td>Fake TOEFL - GPT4 - PE</td>\n",
       "      <td>AI-Generated</td>\n",
       "      <td>GPT4</td>\n",
       "    </tr>\n",
       "    <tr>\n",
       "      <th>2</th>\n",
       "      <td>I envision my life ten years from now as one o...</td>\n",
       "      <td>TOEFL_gpt4polished_91</td>\n",
       "      <td>Fake TOEFL - GPT4 - PE</td>\n",
       "      <td>AI-Generated</td>\n",
       "      <td>GPT4</td>\n",
       "    </tr>\n",
       "    <tr>\n",
       "      <th>3</th>\n",
       "      <td>Personally, I find Peking University to be inc...</td>\n",
       "      <td>TOEFL_gpt4polished_91</td>\n",
       "      <td>Fake TOEFL - GPT4 - PE</td>\n",
       "      <td>AI-Generated</td>\n",
       "      <td>GPT4</td>\n",
       "    </tr>\n",
       "    <tr>\n",
       "      <th>4</th>\n",
       "      <td>I'm confident in pursuing my passion. While I ...</td>\n",
       "      <td>TOEFL_gpt4polished_91</td>\n",
       "      <td>Fake TOEFL - GPT4 - PE</td>\n",
       "      <td>AI-Generated</td>\n",
       "      <td>GPT4</td>\n",
       "    </tr>\n",
       "  </tbody>\n",
       "</table>\n",
       "</div>"
      ],
      "text/plain": [
       "                                                text                 domain  \\\n",
       "0  I favor preparing meals at home. Primarily, it...  TOEFL_gpt4polished_91   \n",
       "1  The destination I'm most eager to explore is o...  TOEFL_gpt4polished_91   \n",
       "2  I envision my life ten years from now as one o...  TOEFL_gpt4polished_91   \n",
       "3  Personally, I find Peking University to be inc...  TOEFL_gpt4polished_91   \n",
       "4  I'm confident in pursuing my passion. While I ...  TOEFL_gpt4polished_91   \n",
       "\n",
       "                     name          kind model  \n",
       "0  Fake TOEFL - GPT4 - PE  AI-Generated  GPT4  \n",
       "1  Fake TOEFL - GPT4 - PE  AI-Generated  GPT4  \n",
       "2  Fake TOEFL - GPT4 - PE  AI-Generated  GPT4  \n",
       "3  Fake TOEFL - GPT4 - PE  AI-Generated  GPT4  \n",
       "4  Fake TOEFL - GPT4 - PE  AI-Generated  GPT4  "
      ]
     },
     "execution_count": 148,
     "metadata": {},
     "output_type": "execute_result"
    }
   ],
   "source": [
    "prev_data.head()"
   ]
  },
  {
   "cell_type": "code",
   "execution_count": 149,
   "id": "3399c7a5",
   "metadata": {},
   "outputs": [
    {
     "data": {
      "text/plain": [
       "Human    306\n",
       "GPT4     236\n",
       "GPT3     207\n",
       "Name: model, dtype: int64"
      ]
     },
     "execution_count": 149,
     "metadata": {},
     "output_type": "execute_result"
    }
   ],
   "source": [
    "prev_data[\"model\"].value_counts()"
   ]
  },
  {
   "cell_type": "code",
   "execution_count": 162,
   "id": "a2d462dc",
   "metadata": {},
   "outputs": [
    {
     "data": {
      "text/html": [
       "<div>\n",
       "<style scoped>\n",
       "    .dataframe tbody tr th:only-of-type {\n",
       "        vertical-align: middle;\n",
       "    }\n",
       "\n",
       "    .dataframe tbody tr th {\n",
       "        vertical-align: top;\n",
       "    }\n",
       "\n",
       "    .dataframe thead th {\n",
       "        text-align: right;\n",
       "    }\n",
       "</style>\n",
       "<table border=\"1\" class=\"dataframe\">\n",
       "  <thead>\n",
       "    <tr style=\"text-align: right;\">\n",
       "      <th></th>\n",
       "      <th>text</th>\n",
       "      <th>domain</th>\n",
       "      <th>name</th>\n",
       "      <th>kind</th>\n",
       "      <th>model</th>\n",
       "    </tr>\n",
       "  </thead>\n",
       "  <tbody>\n",
       "    <tr>\n",
       "      <th>0</th>\n",
       "      <td>I favor preparing meals at home. Primarily, it...</td>\n",
       "      <td>TOEFL_gpt4polished_91</td>\n",
       "      <td>Fake TOEFL - GPT4 - PE</td>\n",
       "      <td>AI-Generated</td>\n",
       "      <td>GPT4</td>\n",
       "    </tr>\n",
       "    <tr>\n",
       "      <th>1</th>\n",
       "      <td>The destination I'm most eager to explore is o...</td>\n",
       "      <td>TOEFL_gpt4polished_91</td>\n",
       "      <td>Fake TOEFL - GPT4 - PE</td>\n",
       "      <td>AI-Generated</td>\n",
       "      <td>GPT4</td>\n",
       "    </tr>\n",
       "    <tr>\n",
       "      <th>2</th>\n",
       "      <td>I envision my life ten years from now as one o...</td>\n",
       "      <td>TOEFL_gpt4polished_91</td>\n",
       "      <td>Fake TOEFL - GPT4 - PE</td>\n",
       "      <td>AI-Generated</td>\n",
       "      <td>GPT4</td>\n",
       "    </tr>\n",
       "    <tr>\n",
       "      <th>3</th>\n",
       "      <td>Personally, I find Peking University to be inc...</td>\n",
       "      <td>TOEFL_gpt4polished_91</td>\n",
       "      <td>Fake TOEFL - GPT4 - PE</td>\n",
       "      <td>AI-Generated</td>\n",
       "      <td>GPT4</td>\n",
       "    </tr>\n",
       "    <tr>\n",
       "      <th>4</th>\n",
       "      <td>I'm confident in pursuing my passion. While I ...</td>\n",
       "      <td>TOEFL_gpt4polished_91</td>\n",
       "      <td>Fake TOEFL - GPT4 - PE</td>\n",
       "      <td>AI-Generated</td>\n",
       "      <td>GPT4</td>\n",
       "    </tr>\n",
       "  </tbody>\n",
       "</table>\n",
       "</div>"
      ],
      "text/plain": [
       "                                                text                 domain  \\\n",
       "0  I favor preparing meals at home. Primarily, it...  TOEFL_gpt4polished_91   \n",
       "1  The destination I'm most eager to explore is o...  TOEFL_gpt4polished_91   \n",
       "2  I envision my life ten years from now as one o...  TOEFL_gpt4polished_91   \n",
       "3  Personally, I find Peking University to be inc...  TOEFL_gpt4polished_91   \n",
       "4  I'm confident in pursuing my passion. While I ...  TOEFL_gpt4polished_91   \n",
       "\n",
       "                     name          kind model  \n",
       "0  Fake TOEFL - GPT4 - PE  AI-Generated  GPT4  \n",
       "1  Fake TOEFL - GPT4 - PE  AI-Generated  GPT4  \n",
       "2  Fake TOEFL - GPT4 - PE  AI-Generated  GPT4  \n",
       "3  Fake TOEFL - GPT4 - PE  AI-Generated  GPT4  \n",
       "4  Fake TOEFL - GPT4 - PE  AI-Generated  GPT4  "
      ]
     },
     "execution_count": 162,
     "metadata": {},
     "output_type": "execute_result"
    }
   ],
   "source": [
    "prev_data.head()"
   ]
  },
  {
   "cell_type": "code",
   "execution_count": 163,
   "id": "c82a74db",
   "metadata": {},
   "outputs": [],
   "source": [
    "prev_data[\"model\"][(prev_data[\"model\"] == \"GPT4\") | (prev_data[\"model\"] == \"GPT3\")] = \"AI\""
   ]
  },
  {
   "cell_type": "code",
   "execution_count": 164,
   "id": "9ac03e63",
   "metadata": {},
   "outputs": [
    {
     "data": {
      "text/plain": [
       "AI       443\n",
       "Human    306\n",
       "Name: model, dtype: int64"
      ]
     },
     "execution_count": 164,
     "metadata": {},
     "output_type": "execute_result"
    }
   ],
   "source": [
    "prev_data[\"model\"].value_counts()"
   ]
  },
  {
   "cell_type": "code",
   "execution_count": 165,
   "id": "7da841b6",
   "metadata": {},
   "outputs": [
    {
     "data": {
      "text/html": [
       "<div>\n",
       "<style scoped>\n",
       "    .dataframe tbody tr th:only-of-type {\n",
       "        vertical-align: middle;\n",
       "    }\n",
       "\n",
       "    .dataframe tbody tr th {\n",
       "        vertical-align: top;\n",
       "    }\n",
       "\n",
       "    .dataframe thead th {\n",
       "        text-align: right;\n",
       "    }\n",
       "</style>\n",
       "<table border=\"1\" class=\"dataframe\">\n",
       "  <thead>\n",
       "    <tr style=\"text-align: right;\">\n",
       "      <th></th>\n",
       "      <th>text</th>\n",
       "      <th>domain</th>\n",
       "      <th>name</th>\n",
       "      <th>kind</th>\n",
       "      <th>model</th>\n",
       "    </tr>\n",
       "  </thead>\n",
       "  <tbody>\n",
       "    <tr>\n",
       "      <th>0</th>\n",
       "      <td>I favor preparing meals at home. Primarily, it...</td>\n",
       "      <td>TOEFL_gpt4polished_91</td>\n",
       "      <td>Fake TOEFL - GPT4 - PE</td>\n",
       "      <td>AI-Generated</td>\n",
       "      <td>AI</td>\n",
       "    </tr>\n",
       "    <tr>\n",
       "      <th>1</th>\n",
       "      <td>The destination I'm most eager to explore is o...</td>\n",
       "      <td>TOEFL_gpt4polished_91</td>\n",
       "      <td>Fake TOEFL - GPT4 - PE</td>\n",
       "      <td>AI-Generated</td>\n",
       "      <td>AI</td>\n",
       "    </tr>\n",
       "    <tr>\n",
       "      <th>2</th>\n",
       "      <td>I envision my life ten years from now as one o...</td>\n",
       "      <td>TOEFL_gpt4polished_91</td>\n",
       "      <td>Fake TOEFL - GPT4 - PE</td>\n",
       "      <td>AI-Generated</td>\n",
       "      <td>AI</td>\n",
       "    </tr>\n",
       "    <tr>\n",
       "      <th>3</th>\n",
       "      <td>Personally, I find Peking University to be inc...</td>\n",
       "      <td>TOEFL_gpt4polished_91</td>\n",
       "      <td>Fake TOEFL - GPT4 - PE</td>\n",
       "      <td>AI-Generated</td>\n",
       "      <td>AI</td>\n",
       "    </tr>\n",
       "    <tr>\n",
       "      <th>4</th>\n",
       "      <td>I'm confident in pursuing my passion. While I ...</td>\n",
       "      <td>TOEFL_gpt4polished_91</td>\n",
       "      <td>Fake TOEFL - GPT4 - PE</td>\n",
       "      <td>AI-Generated</td>\n",
       "      <td>AI</td>\n",
       "    </tr>\n",
       "  </tbody>\n",
       "</table>\n",
       "</div>"
      ],
      "text/plain": [
       "                                                text                 domain  \\\n",
       "0  I favor preparing meals at home. Primarily, it...  TOEFL_gpt4polished_91   \n",
       "1  The destination I'm most eager to explore is o...  TOEFL_gpt4polished_91   \n",
       "2  I envision my life ten years from now as one o...  TOEFL_gpt4polished_91   \n",
       "3  Personally, I find Peking University to be inc...  TOEFL_gpt4polished_91   \n",
       "4  I'm confident in pursuing my passion. While I ...  TOEFL_gpt4polished_91   \n",
       "\n",
       "                     name          kind model  \n",
       "0  Fake TOEFL - GPT4 - PE  AI-Generated    AI  \n",
       "1  Fake TOEFL - GPT4 - PE  AI-Generated    AI  \n",
       "2  Fake TOEFL - GPT4 - PE  AI-Generated    AI  \n",
       "3  Fake TOEFL - GPT4 - PE  AI-Generated    AI  \n",
       "4  Fake TOEFL - GPT4 - PE  AI-Generated    AI  "
      ]
     },
     "execution_count": 165,
     "metadata": {},
     "output_type": "execute_result"
    }
   ],
   "source": [
    "prev_data.head()"
   ]
  },
  {
   "cell_type": "code",
   "execution_count": 166,
   "id": "43b7472f",
   "metadata": {},
   "outputs": [],
   "source": [
    "dataset = pd.concat([dataset, prev_data], axis = 0)"
   ]
  },
  {
   "cell_type": "code",
   "execution_count": 167,
   "id": "9bf9e191",
   "metadata": {},
   "outputs": [
    {
     "name": "stdout",
     "output_type": "stream",
     "text": [
      "<class 'pandas.core.frame.DataFrame'>\n",
      "Int64Index: 2282 entries, 0 to 748\n",
      "Data columns (total 5 columns):\n",
      " #   Column  Non-Null Count  Dtype \n",
      "---  ------  --------------  ----- \n",
      " 0   text    2282 non-null   object\n",
      " 1   domain  2282 non-null   object\n",
      " 2   name    2282 non-null   object\n",
      " 3   kind    2282 non-null   object\n",
      " 4   model   2282 non-null   object\n",
      "dtypes: object(5)\n",
      "memory usage: 107.0+ KB\n"
     ]
    }
   ],
   "source": [
    "dataset.info()"
   ]
  },
  {
   "cell_type": "code",
   "execution_count": 168,
   "id": "2607dece",
   "metadata": {},
   "outputs": [
    {
     "data": {
      "text/plain": [
       "Human    1479\n",
       "AI        803\n",
       "Name: model, dtype: int64"
      ]
     },
     "execution_count": 168,
     "metadata": {},
     "output_type": "execute_result"
    }
   ],
   "source": [
    "dataset[\"model\"].value_counts()"
   ]
  },
  {
   "cell_type": "code",
   "execution_count": 169,
   "id": "928bf85e",
   "metadata": {},
   "outputs": [],
   "source": [
    "dataset.to_csv(\"datasets/final_dataset.csv\", index = False)"
   ]
  },
  {
   "cell_type": "code",
   "execution_count": null,
   "id": "667c8044",
   "metadata": {},
   "outputs": [],
   "source": []
  },
  {
   "cell_type": "code",
   "execution_count": null,
   "id": "fd8803c8",
   "metadata": {},
   "outputs": [],
   "source": []
  }
 ],
 "metadata": {
  "kernelspec": {
   "display_name": "Python 3 (ipykernel)",
   "language": "python",
   "name": "python3"
  },
  "language_info": {
   "codemirror_mode": {
    "name": "ipython",
    "version": 3
   },
   "file_extension": ".py",
   "mimetype": "text/x-python",
   "name": "python",
   "nbconvert_exporter": "python",
   "pygments_lexer": "ipython3",
   "version": "3.10.9"
  }
 },
 "nbformat": 4,
 "nbformat_minor": 5
}
